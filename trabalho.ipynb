{
  "nbformat": 4,
  "nbformat_minor": 0,
  "metadata": {
    "colab": {
      "provenance": [],
      "collapsed_sections": [],
      "authorship_tag": "ABX9TyPc7myTJyK99E/XoRhl6DAV",
      "include_colab_link": true
    },
    "kernelspec": {
      "name": "python3",
      "display_name": "Python 3"
    },
    "language_info": {
      "name": "python"
    }
  },
  "cells": [
    {
      "cell_type": "markdown",
      "metadata": {
        "id": "view-in-github",
        "colab_type": "text"
      },
      "source": [
        "<a href=\"https://colab.research.google.com/github/reidnersousa/6semestre/blob/Teoria-Grafos/trabalho.ipynb\" target=\"_parent\"><img src=\"https://colab.research.google.com/assets/colab-badge.svg\" alt=\"Open In Colab\"/></a>"
      ]
    },
    {
      "cell_type": "code",
      "execution_count": 5,
      "metadata": {
        "colab": {
          "base_uri": "https://localhost:8080/"
        },
        "id": "VsztwTdMRwNj",
        "outputId": "ff11ff4a-6663-44ca-b9d3-84b4e922fd36"
      },
      "outputs": [
        {
          "output_type": "stream",
          "name": "stdout",
          "text": [
            "['5', '1 2', '2 5', '3 5', '4 5', '5 1']\n",
            "5\n",
            ">>>>\n",
            "2\n",
            " \n",
            "5\n",
            ">> 5\n"
          ]
        }
      ],
      "source": [
        "# importar as bibliotecas necessárias\n",
        "import pandas as pd\n",
        "import matplotlib.pyplot as plt\n",
        "import numpy as np\n",
        "import seaborn as sns\n",
        "from pprint import pprint\n",
        "\n",
        "# estilo notebook\n",
        "sns.set()\n",
        "\n",
        "# url dos datasets\n",
        "url_path = 'https://raw.githubusercontent.com/reidnersousa/6semestre/Teoria-Grafos/GrafoExemplo.txt'\n",
        "\n",
        "# df recebe o arquivo e transforma em DataFrame\n",
        "df = pd.read_csv(url_path , sep ='\\t',names=[\"Teste1\"])\n",
        "\n",
        "\n",
        "# transformando o DataFrame em Dictinory\n",
        "\n",
        "names = df['Teste1'].tolist()\n",
        "\n",
        "arrayDi = df['Teste1'].to_numpy()\n",
        " \n",
        "# Printing the converted list.\n",
        "print(names)\n",
        "\n",
        "#print(names[0])\n",
        "\n",
        "\n",
        "print(arrayDi[0][0])\n",
        "print(\">>>>\")\n",
        "print(arrayDi[2][0])\n",
        "print(arrayDi[2][1])\n",
        "print(arrayDi[2][2])\n",
        "print(\">>\",arrayDi[2][2])\n",
        "\n"
      ]
    },
    {
      "cell_type": "markdown",
      "source": [
        "O i>= numeroNo e  j >=3"
      ],
      "metadata": {
        "id": "dC1KzPZ6kQ8-"
      }
    },
    {
      "cell_type": "code",
      "source": [
        "#print(arrayDi[0][1])\n",
        "#print(arrayDi[0][2])\n",
        "\n",
        "NumeroNo = arrayDi[0][0]\n",
        "print(NumeroNo)\n",
        "imax =NumeroNo\n",
        "jmax =3"
      ],
      "metadata": {
        "colab": {
          "base_uri": "https://localhost:8080/"
        },
        "id": "5JtFwA5BkSrf",
        "outputId": "1a932951-71bb-4a4f-d4a7-f87e601e71ff"
      },
      "execution_count": null,
      "outputs": [
        {
          "output_type": "stream",
          "name": "stdout",
          "text": [
            "5\n"
          ]
        }
      ]
    },
    {
      "cell_type": "markdown",
      "source": [
        "criando Matriz adjacência"
      ],
      "metadata": {
        "id": "q4TShCnyEZT1"
      }
    },
    {
      "cell_type": "code",
      "source": [
        "tamanho =int(NumeroNo)\n",
        "grade =[]\n",
        "\n",
        "for _ in range(tamanho):\n",
        "  sublista = [] \n",
        "  for _ in range(tamanho):\n",
        "    sublista.append(0)\n",
        "\n",
        "  grade.append(sublista)"
      ],
      "metadata": {
        "id": "qsfiwlmZljx1"
      },
      "execution_count": null,
      "outputs": []
    },
    {
      "cell_type": "markdown",
      "source": [
        "colocandos valores na matriz\n"
      ],
      "metadata": {
        "id": "F_XBbTzMzUFX"
      }
    },
    {
      "cell_type": "code",
      "source": [
        "grade[0][0] = 1\n",
        "grade[0][4]= 1\n",
        "grade[4][3]=1\n",
        "pprint(grade)\n",
        "\n",
        "\n",
        "\n"
      ],
      "metadata": {
        "colab": {
          "base_uri": "https://localhost:8080/"
        },
        "id": "EEcWFHr_zX_v",
        "outputId": "b8531743-4dd1-4e53-aca7-17eafa702ddb"
      },
      "execution_count": null,
      "outputs": [
        {
          "output_type": "stream",
          "name": "stdout",
          "text": [
            "[[1, 0, 0, 0, 1],\n",
            " [0, 0, 0, 0, 0],\n",
            " [0, 0, 0, 0, 0],\n",
            " [0, 0, 0, 0, 0],\n",
            " [0, 0, 0, 1, 0]]\n"
          ]
        }
      ]
    },
    {
      "cell_type": "markdown",
      "source": [
        "for com idx no python\n"
      ],
      "metadata": {
        "id": "49YJgS0u_mlv"
      }
    },
    {
      "cell_type": "code",
      "source": [
        "\"\"\"\n",
        "i = 1 #inicializador\n",
        "while i < tamanho: #verifica a condição\n",
        "    print(i) #o corpo, a ação\n",
        "    i += 1 #o passo de \"incremento\"\n",
        "\n",
        "\"\"\"\n",
        "\n",
        "i=int(arrayDi[4][0])  #4\n",
        "j=int(arrayDi[4][2])  #5\n",
        "\n",
        "i=i-1\n",
        "j=j-1\n",
        "print(\">>>\",i)\n",
        "print(\">>>\",j)\n",
        "\n",
        "\n",
        "grade[i][j]=2\n",
        "pprint(grade)"
      ],
      "metadata": {
        "colab": {
          "base_uri": "https://localhost:8080/"
        },
        "id": "LhmTUFOn-vyy",
        "outputId": "5cd8f60c-fc58-451d-83aa-4db887a8912b"
      },
      "execution_count": null,
      "outputs": [
        {
          "output_type": "stream",
          "name": "stdout",
          "text": [
            ">>> 3\n",
            ">>> 4\n",
            "[[1, 0, 0, 0, 1],\n",
            " [0, 0, 0, 0, 0],\n",
            " [0, 0, 0, 0, 0],\n",
            " [0, 0, 0, 0, 2],\n",
            " [0, 0, 0, 1, 0]]\n"
          ]
        }
      ]
    },
    {
      "cell_type": "markdown",
      "source": [
        "Criar uma função que recebe Grade e ArrayDi e  retorna Grade com os valores atribuido ."
      ],
      "metadata": {
        "id": "H13ljPCTIM_V"
      }
    },
    {
      "cell_type": "code",
      "source": [
        "i = 0 #inicializador\n",
        "j =0\n",
        "while i < tamanho: #verifica a condição\n",
        "    print(\">>\",arrayDi[i][j]) #o corpo, a ação\n",
        "    i += 1 #o passo de \"incremento\"\n"
      ],
      "metadata": {
        "colab": {
          "base_uri": "https://localhost:8080/"
        },
        "id": "sjOEhb3qIlG_",
        "outputId": "f5a95816-f24d-4dc7-df43-3f9e5bd11163"
      },
      "execution_count": null,
      "outputs": [
        {
          "output_type": "stream",
          "name": "stdout",
          "text": [
            ">> 5\n",
            ">> 1\n",
            ">> 2\n",
            ">> 3\n",
            ">> 4\n"
          ]
        }
      ]
    },
    {
      "cell_type": "markdown",
      "source": [],
      "metadata": {
        "id": "xj0WEomKItDe"
      }
    }
  ]
}