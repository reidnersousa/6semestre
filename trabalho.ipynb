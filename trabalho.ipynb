{
  "nbformat": 4,
  "nbformat_minor": 0,
  "metadata": {
    "colab": {
      "provenance": [],
      "collapsed_sections": [],
      "authorship_tag": "ABX9TyMGLgACXuuTSDRoxmGxcQrg",
      "include_colab_link": true
    },
    "kernelspec": {
      "name": "python3",
      "display_name": "Python 3"
    },
    "language_info": {
      "name": "python"
    }
  },
  "cells": [
    {
      "cell_type": "markdown",
      "metadata": {
        "id": "view-in-github",
        "colab_type": "text"
      },
      "source": [
        "<a href=\"https://colab.research.google.com/github/reidnersousa/6semestre/blob/Teoria-Grafos/trabalho.ipynb\" target=\"_parent\"><img src=\"https://colab.research.google.com/assets/colab-badge.svg\" alt=\"Open In Colab\"/></a>"
      ]
    },
    {
      "cell_type": "markdown",
      "source": [
        "funcoes.py"
      ],
      "metadata": {
        "id": "Butg8SuYz0iS"
      }
    },
    {
      "cell_type": "code",
      "source": [
        "from pprint import pprint\n",
        "# importar as bibliotecas necessárias\n",
        "import pandas as pd\n",
        "import matplotlib.pyplot as plt\n",
        "import numpy as np\n",
        "import seaborn as sns\n",
        "from pprint import pprint\n",
        "\n",
        "#import funcoes\n",
        "def CriarRotas(verticeInicial,verticeFinal,arrayDi):\n",
        "  rotas =[]\n",
        "  numero = len(arrayDi)\n",
        "  numerosAresta = numero -1\n",
        "  #numerosAresta =5 # criar uma função que calcular o numero de aresta \n",
        "  i=0\n",
        "  while i<numerosAresta:\n",
        "    \n",
        "    aux=[(verticeInicial[i],verticeFinal[i])]\n",
        "    rotas.append(aux)\n",
        "    i +=1 \n",
        "\n",
        "  return rotas\n",
        "\n",
        "# falta coisa\n",
        "# criar um metodo que contabilizar o numero de aresta por vertice \n",
        "def grauVertice(rotas,verticeInical,verticeFinal):\n",
        "  op =0\n",
        "  numeroDeAresta = len(rotas)\n",
        "  numeroDeAresta = numeroDeAresta -1\n",
        "  while op <numeroDeAresta:\n",
        "    \n",
        "    print(\"verticeInicial\",rotas[op][0][0])\n",
        "    print(\"verticeFinal  \",rotas[op][0][1])\n",
        "    print()\n",
        "    op  += 1\n",
        "    if(rotas[op][0][0]==rotas[numeroDeAresta][0][0]):\n",
        "      print(\"verticeInicial\",rotas[op][0][0])\n",
        "    if(rotas[op][0][1]==rotas[numeroDeAresta][0][1]):\n",
        "      print(\"verticeFinal\",rotas[op][0][1])\n",
        "\n",
        "\n",
        "def numeroAres(arrayDi):\n",
        "  numero =len(arrayDi)\n",
        "  numeroAresta = numero -1\n",
        "  return numeroAresta\n",
        "\n",
        "# criando uma função que recebe ArrayDi e dividir em dois \n",
        "# essa função serve como auxiliar para a  função que vai criar a lista\n",
        "def SeperandoArrayDi(arrayDi):\n",
        "  i=1\n",
        "  j=1\n",
        "  \n",
        "  VerticeInicial =[]\n",
        "  VerticeFinal =[]\n",
        "  tam =int(numeroDeVertice(arrayDi))\n",
        "  print(tam)\n",
        "  while i<tam:\n",
        "    aux =int(arrayDi[i][0])\n",
        "    VerticeInicial.append(aux) # convert str em int \n",
        "    #VerticeInicial.append(arrayDi[i][0])\n",
        "    i +=1\n",
        "    if arrayDi[tam][0]==arrayDi[i][0]:\n",
        "      aux =int(arrayDi[i][0])\n",
        "      VerticeInicial.append(aux)\n",
        "      #VerticeInicial.append(arrayDi[i][0])\n",
        "  while j <tam:\n",
        "\n",
        "    auj =int(arrayDi[j][2])\n",
        "    VerticeFinal.append(auj)\n",
        "    #VerticeFinal.append(arrayDi[j][2]) \n",
        "    j +=1\n",
        "    if arrayDi[tam][2]==arrayDi[j][2]:\n",
        "      auj =int(arrayDi[j][2])\n",
        "      VerticeFinal.append(auj)\n",
        "     # VerticeFinal.append(arrayDi[j][2])\n",
        "  \n",
        "  return VerticeInicial,VerticeFinal\n",
        "     \n",
        "#Criando função que recebe o arrayDi e matrizAdjNula\n",
        "# ta errado \n",
        "def setValoresMatriz(aDi,grade0):\n",
        "  arrayDi =aDi\n",
        "  grade=grade0\n",
        "  k = 1 # não pode ser menor do que 1 ;k vai de 1 ate o tamanhho do elemento\n",
        "  l =0\n",
        "  tamanho =int(numeroDeVertice(arrayDi))\n",
        "  \n",
        "  print(tamanho)\n",
        "  while k < tamanho: #verifica a condição   \n",
        "    while l <2:\n",
        "      if arrayDi[k][l]== arrayDi[k][0]:\n",
        "        auxk=int(arrayDi[k][l])\n",
        "      l += 1\n",
        "    if arrayDi[k][l]==arrayDi[k][2]:\n",
        "      auxl=(arrayDi[k][l])\n",
        "      auxl=int(auxl)\n",
        "      #aqui devo devo atribuir os idx para coloca 1 ou 0\n",
        "      grade[auxk-1][auxl-1]=1 # colando em um so lado \n",
        "      #teste\n",
        "      grade[auxl-1][auxk-1]=1 # colando no outro lado (opcional)  \n",
        "    l=0\n",
        "    k += 1 #o passo de \"incremento\"\n",
        "  while l<2:\n",
        "    if arrayDi[k][l]== arrayDi[k][0]:\n",
        "      auxk=int(arrayDi[k][l])\n",
        "    l+= 1\n",
        "  if arrayDi[k][l]==arrayDi[k][2]:\n",
        "    auxl=int(arrayDi[k][l])\n",
        "    grade[auxk-1][auxl-1]=1\n",
        "  return grade    \n",
        "# criando função adjacente  com valoes nulo\n",
        "def criarMatrizAdj(numeroVertice):\n",
        "    tamanho=int(numeroVertice)\n",
        "    grade =[]\n",
        "    for _ in range(tamanho):\n",
        "        sublista =[]\n",
        "        for _ in range(tamanho):\n",
        "            sublista.append(0)\n",
        "        grade.append(sublista)\n",
        "    return grade\n",
        "#estuda modularização no pythhon\n",
        "def numeroDeVertice(arraDii):\n",
        "    return arraDii[0]\n",
        "  \n",
        "\n",
        "\n",
        "\n"
      ],
      "metadata": {
        "id": "Y8JvJVmcFeGr"
      },
      "execution_count": 23,
      "outputs": []
    },
    {
      "cell_type": "markdown",
      "source": [
        "main.py"
      ],
      "metadata": {
        "id": "RkuLkTjPFbXf"
      }
    },
    {
      "cell_type": "code",
      "source": [
        "# importar as bibliotecas necessárias\n",
        "import pandas as pd\n",
        "import matplotlib.pyplot as plt\n",
        "import numpy as np\n",
        "import seaborn as sns\n",
        "from pprint import pprint\n",
        "\"\"\"\n",
        "from hello import *\n",
        "\n",
        "world()\n",
        "\"\"\"\n",
        "\n",
        "#from  funcoes import*\n",
        "# estilo notebook\n",
        "sns.set()\n",
        "\n",
        "\n",
        "# url dos datasets\n",
        "url_path = 'https://raw.githubusercontent.com/reidnersousa/6semestre/Teoria-Grafos/GrafoExemplo.txt'\n",
        "\n",
        "#url_path ='https://raw.githubusercontent.com/reidnersousa/6semestre/Teoria-Grafos/as_graph.txt'\n",
        "\n",
        "\n",
        "# df recebe o arquivo e transforma em DataFrame\n",
        "df = pd.read_csv(url_path , sep ='\\t',names=[\"Teste1\"])\n",
        "\n",
        "arrayDi = df['Teste1'].to_numpy()\n",
        "#print(arrayDi)\n",
        "n=numeroDeVertice(arrayDi)\n",
        "\n",
        "m = numeroAres(arrayDi)\n",
        "\n",
        "\n",
        "vI ,vF = SeperandoArrayDi(arrayDi)\n",
        "\n",
        "print(\"vertice inical\",vI)\n",
        "print(\"vertice final\",vF)\n",
        "\n",
        "rotas=CriarRotas(vI,vF,arrayDi)\n",
        "\n",
        "\n",
        "\n",
        "print(rotas)\n",
        "print(type(rotas))\n",
        "print(rotas[1])\n",
        "\n",
        "grauVertice(rotas,vI,vF)\n",
        "\n",
        "\n"
      ],
      "metadata": {
        "colab": {
          "base_uri": "https://localhost:8080/"
        },
        "id": "MhMlwUD4FmQl",
        "outputId": "95bf46b5-ca44-462e-d4f6-22303f1f9c3e"
      },
      "execution_count": 24,
      "outputs": [
        {
          "output_type": "stream",
          "name": "stdout",
          "text": [
            "5\n",
            "vertice inical [1, 2, 3, 4, 5]\n",
            "vertice final [2, 5, 5, 5, 1]\n",
            "[[(1, 2)], [(2, 5)], [(3, 5)], [(4, 5)], [(5, 1)]]\n",
            "<class 'list'>\n",
            "[(2, 5)]\n",
            "verticeInicial 1\n",
            "verticeFinal   2\n",
            "\n",
            "verticeInicial 2\n",
            "verticeFinal   5\n",
            "\n",
            "verticeInicial 3\n",
            "verticeFinal   5\n",
            "\n",
            "verticeInicial 4\n",
            "verticeFinal   5\n",
            "\n",
            "verticeInicial 5\n",
            "verticeFinal 1\n"
          ]
        }
      ]
    },
    {
      "cell_type": "markdown",
      "source": [
        "texte.py"
      ],
      "metadata": {
        "id": "4A-JD7co8hFW"
      }
    },
    {
      "cell_type": "code",
      "source": [
        "matrizNula = criarMatrizAdj(n)\n",
        "pprint(matrizNula)\n",
        "\n",
        "matriz =setValoresMatriz(arrayDi,matrizNula)\n",
        "pprint(matriz)"
      ],
      "metadata": {
        "colab": {
          "base_uri": "https://localhost:8080/"
        },
        "id": "jyVA2eCy8jcx",
        "outputId": "f03dd0cb-7896-41f7-c8cc-29366d29194b"
      },
      "execution_count": 7,
      "outputs": [
        {
          "output_type": "stream",
          "name": "stdout",
          "text": [
            "[[0, 0, 0, 0, 0],\n",
            " [0, 0, 0, 0, 0],\n",
            " [0, 0, 0, 0, 0],\n",
            " [0, 0, 0, 0, 0],\n",
            " [0, 0, 0, 0, 0]]\n",
            "5\n",
            "[[0, 1, 0, 0, 0],\n",
            " [1, 0, 0, 0, 1],\n",
            " [0, 0, 0, 0, 1],\n",
            " [0, 0, 0, 0, 1],\n",
            " [1, 1, 1, 1, 0]]\n"
          ]
        }
      ]
    }
  ]
}