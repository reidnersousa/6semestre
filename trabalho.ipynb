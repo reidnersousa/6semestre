{
  "nbformat": 4,
  "nbformat_minor": 0,
  "metadata": {
    "colab": {
      "provenance": [],
      "collapsed_sections": [],
      "authorship_tag": "ABX9TyMjO5O9y4jssikBmZp+SUVS",
      "include_colab_link": true
    },
    "kernelspec": {
      "name": "python3",
      "display_name": "Python 3"
    },
    "language_info": {
      "name": "python"
    }
  },
  "cells": [
    {
      "cell_type": "markdown",
      "metadata": {
        "id": "view-in-github",
        "colab_type": "text"
      },
      "source": [
        "<a href=\"https://colab.research.google.com/github/reidnersousa/6semestre/blob/Teoria-Grafos/trabalho.ipynb\" target=\"_parent\"><img src=\"https://colab.research.google.com/assets/colab-badge.svg\" alt=\"Open In Colab\"/></a>"
      ]
    },
    {
      "cell_type": "markdown",
      "source": [
        "funcoes.py"
      ],
      "metadata": {
        "id": "Butg8SuYz0iS"
      }
    },
    {
      "cell_type": "code",
      "source": [
        "from pprint import pprint\n",
        "# importar as bibliotecas necessárias\n",
        "import pandas as pd\n",
        "import matplotlib.pyplot as plt\n",
        "import numpy as np\n",
        "import seaborn as sns\n",
        "from pprint import pprint\n",
        "\n",
        "#import funcoes\n",
        "def CriarRotas(verticeInicial,verticeFinal,arrayDi):\n",
        "  rotas =[]\n",
        "  numero = len(arrayDi)\n",
        "  numerosAresta = numero -1\n",
        "  #numerosAresta =5 # criar uma função que calcular o numero de aresta \n",
        "  i=0\n",
        "  while i<numerosAresta:\n",
        "    \n",
        "    aux=[(verticeInicial[i],verticeFinal[i])]\n",
        "    rotas.append(aux)\n",
        "    i +=1 \n",
        "\n",
        "  return rotas\n",
        "\n",
        "# falta coisa\n",
        "# criar um metodo que contabilizar o numero de aresta por vertice \n",
        "def grauVertice(rotas,verticeInical,verticeFinal):\n",
        "  op =0\n",
        "\n",
        "  numeroDeAresta = len(rotas)\n",
        "  numeroDeAresta = numeroDeAresta -1\n",
        "  while op <numeroDeAresta:\n",
        "    \n",
        "    print(\"verticeInicial\",rotas[op][0][0])\n",
        "    print(\"verticeFinal  \",rotas[op][0][1])\n",
        "    print()\n",
        "    \n",
        "    op  += 1\n",
        "    if(rotas[op][0][0]==rotas[numeroDeAresta][0][0]):\n",
        "      print(\"verticeInicial\",rotas[op][0][0])\n",
        "    if(rotas[op][0][1]==rotas[numeroDeAresta][0][1]):\n",
        "      print(\"verticeFinal\",rotas[op][0][1])\n",
        "\n",
        "\n",
        "def numeroAres(arrayDi):\n",
        "  numero =len(arrayDi)\n",
        "  numeroAresta = numero -1\n",
        "  return numeroAresta\n",
        "\n",
        "# criando uma função que recebe ArrayDi e dividir em dois \n",
        "# essa função serve como auxiliar para a  função que vai criar a lista\n",
        "def SeperandoArrayDi(arrayDi):\n",
        "  i=1\n",
        "  j=1\n",
        "  \n",
        "  VerticeInicial =[]\n",
        "  VerticeFinal =[]\n",
        "  tam =int(numeroDeVertice(arrayDi))\n",
        "  print(tam)\n",
        "  while i<tam:\n",
        "    aux =int(arrayDi[i][0])\n",
        "    VerticeInicial.append(aux) # convert str em int \n",
        "    #VerticeInicial.append(arrayDi[i][0])\n",
        "    i +=1\n",
        "    if arrayDi[tam][0]==arrayDi[i][0]:\n",
        "      aux =int(arrayDi[i][0])\n",
        "      VerticeInicial.append(aux)\n",
        "      #VerticeInicial.append(arrayDi[i][0])\n",
        "  while j <tam:\n",
        "\n",
        "    auj =int(arrayDi[j][2])\n",
        "    VerticeFinal.append(auj)\n",
        "    #VerticeFinal.append(arrayDi[j][2]) \n",
        "    j +=1\n",
        "    if arrayDi[tam][2]==arrayDi[j][2]:\n",
        "      auj =int(arrayDi[j][2])\n",
        "      VerticeFinal.append(auj)\n",
        "     # VerticeFinal.append(arrayDi[j][2])\n",
        "  \n",
        "  return VerticeInicial,VerticeFinal\n",
        "     \n",
        "#Criando função que recebe o arrayDi e matrizAdjNula\n",
        "# ta errado \n",
        "def setValoresMatriz(aDi,grade0):\n",
        "  arrayDi =aDi\n",
        "  grade=grade0\n",
        "  k = 1 # não pode ser menor do que 1 ;k vai de 1 ate o tamanhho do elemento\n",
        "  l =0\n",
        "  tamanho =int(numeroDeVertice(arrayDi))\n",
        "  \n",
        "  print(tamanho)\n",
        "  while k < tamanho: #verifica a condição   \n",
        "    while l <2:\n",
        "      if arrayDi[k][l]== arrayDi[k][0]:\n",
        "        auxk=int(arrayDi[k][l])\n",
        "      l += 1\n",
        "    if arrayDi[k][l]==arrayDi[k][2]:\n",
        "      auxl=(arrayDi[k][l])\n",
        "      auxl=int(auxl)\n",
        "      #aqui devo devo atribuir os idx para coloca 1 ou 0\n",
        "      grade[auxk-1][auxl-1]=1 # colando em um so lado \n",
        "      #teste\n",
        "      grade[auxl-1][auxk-1]=1 # colando no outro lado (opcional)  \n",
        "    l=0\n",
        "    k += 1 #o passo de \"incremento\"\n",
        "  while l<2:\n",
        "    if arrayDi[k][l]== arrayDi[k][0]:\n",
        "      auxk=int(arrayDi[k][l])\n",
        "    l+= 1\n",
        "  if arrayDi[k][l]==arrayDi[k][2]:\n",
        "    auxl=int(arrayDi[k][l])\n",
        "    grade[auxk-1][auxl-1]=1\n",
        "  return grade    \n",
        "# criando função adjacente  com valoes nulo\n",
        "def criarMatrizAdj(numeroVertice):\n",
        "    tamanho=int(numeroVertice)\n",
        "    grade =[]\n",
        "    for _ in range(tamanho):\n",
        "        sublista =[]\n",
        "        for _ in range(tamanho):\n",
        "            sublista.append(0)\n",
        "        grade.append(sublista)\n",
        "    return grade\n",
        "#estuda modularização no pythhon\n",
        "def numeroDeVertice(arraDii):\n",
        "    return arraDii[0]\n",
        "  \n",
        "\n",
        "\n",
        "def criarListaNula(numeroVertice):\n",
        "    tamanho=int(numeroVertice)\n",
        "    lista =[]\n",
        "    for _ in range(tamanho):\n",
        "    #while i < tamanho:\n",
        "      lista.append(0)\n",
        "\n",
        "    return lista\n",
        "#vi verticeInicial  vf = verticeFinal\n",
        "def criarDict(vi,vf):\n",
        "  dicto=dict(zip(vi,vf))\n",
        "  print(\"vi\",vi)\n",
        "  print(\"vf\",vf)\n",
        "  return dicto\n",
        "\n",
        "\n"
      ],
      "metadata": {
        "id": "Y8JvJVmcFeGr"
      },
      "execution_count": 28,
      "outputs": []
    },
    {
      "cell_type": "markdown",
      "source": [
        "main.py"
      ],
      "metadata": {
        "id": "RkuLkTjPFbXf"
      }
    },
    {
      "cell_type": "code",
      "source": [
        "# importar as bibliotecas necessárias\n",
        "import pandas as pd\n",
        "import matplotlib.pyplot as plt\n",
        "import numpy as np\n",
        "import seaborn as sns\n",
        "from pprint import pprint\n",
        "\"\"\"\n",
        "from hello import *\n",
        "\n",
        "world()\n",
        "\"\"\"\n",
        "\n",
        "#from  funcoes import*\n",
        "# estilo notebook\n",
        "sns.set()\n",
        "\n",
        "\n",
        "# url dos datasets\n",
        "url_path = 'https://raw.githubusercontent.com/reidnersousa/6semestre/Teoria-Grafos/GrafoExemplo.txt'\n",
        "\n",
        "#url_path ='https://raw.githubusercontent.com/reidnersousa/6semestre/Teoria-Grafos/as_graph.txt'\n",
        "\n",
        "\n",
        "# df recebe o arquivo e transforma em DataFrame\n",
        "df = pd.read_csv(url_path , sep ='\\t',names=[\"Teste1\"])\n",
        "\n",
        "arrayDi = df['Teste1'].to_numpy()\n",
        "#print(arrayDi)\n",
        "n=numeroDeVertice(arrayDi)\n",
        "\n",
        "m = numeroAres(arrayDi)\n",
        "\n",
        "\n",
        "vI ,vF = SeperandoArrayDi(arrayDi)\n",
        "\n",
        "print(\"vertice inical\",vI)\n",
        "print(\"vertice final\",vF)\n",
        "\n",
        "rotas=CriarRotas(vI,vF,arrayDi)\n",
        "\n",
        "\n",
        "\n",
        "print(rotas)\n",
        "print(type(rotas))\n",
        "print(rotas[0])\n",
        "\n",
        "\n",
        "\n",
        "print(rotas[0][0][0])\n",
        "print(rotas[0][0][1])\n",
        "\n",
        "\n",
        "rotasInverso =CriarRotas(vF,vI,arrayDi)\n",
        "print(rotasInverso)\n",
        "\n",
        "variavel=[0,1,2,3,4,5]\n",
        "dictionaro ={\"vertice1\":variavel[1],\"vertice2\":variavel[2],\"vertice3\":variavel[3]}\n",
        "print(dictionaro)\n",
        "\n",
        "print(variavel[1])\n",
        "variavel[1] += 2\n",
        "\n",
        "\n",
        "dictionaro ={\"vertice1\":variavel[1],\"vertice2\":variavel[2],\"vertice3\":variavel[3]}\n",
        "print(\"meio\",dictionaro)\n",
        "\n",
        "#proximo objetivvo implementar isso para atribuir um incremento \n",
        "\n"
      ],
      "metadata": {
        "colab": {
          "base_uri": "https://localhost:8080/"
        },
        "id": "MhMlwUD4FmQl",
        "outputId": "eea6e565-9d25-4a71-8427-501dc6f8168a"
      },
      "execution_count": 106,
      "outputs": [
        {
          "output_type": "stream",
          "name": "stdout",
          "text": [
            "5\n",
            "vertice inical [1, 2, 3, 4, 5]\n",
            "vertice final [2, 5, 5, 5, 1]\n",
            "[[(1, 2)], [(2, 5)], [(3, 5)], [(4, 5)], [(5, 1)]]\n",
            "<class 'list'>\n",
            "[(1, 2)]\n",
            "1\n",
            "2\n",
            "[[(2, 1)], [(5, 2)], [(5, 3)], [(5, 4)], [(1, 5)]]\n",
            "{'vertice1': 1, 'vertice2': 2, 'vertice3': 3}\n",
            "1\n",
            "meio {'vertice1': 3, 'vertice2': 2, 'vertice3': 3}\n"
          ]
        }
      ]
    },
    {
      "cell_type": "markdown",
      "source": [
        "texte.py"
      ],
      "metadata": {
        "id": "4A-JD7co8hFW"
      }
    },
    {
      "cell_type": "code",
      "source": [
        "\n",
        "\n",
        "\n",
        "# dicto tem o vertice inical e final\n",
        "dicto=criarDict(vI,vF)\n",
        "\n",
        "print(\"dicto\",dicto)\n",
        "\n",
        "print()\n",
        "\n",
        "dictoInverso=criarDict(vF,vI)\n",
        "print(\"dictoInverso\",dictoInverso)\n",
        "\n",
        "print()\n",
        "listaNula =criarListaNula(n)\n",
        "print(listaNula)\n",
        "dictoContando=criarDict(vI,listaNula)\n",
        "print(dictoContando)\n"
      ],
      "metadata": {
        "colab": {
          "base_uri": "https://localhost:8080/"
        },
        "id": "jyVA2eCy8jcx",
        "outputId": "cf6bdd4b-7314-4555-b8ec-5a67ecc985ce"
      },
      "execution_count": 53,
      "outputs": [
        {
          "output_type": "stream",
          "name": "stdout",
          "text": [
            "vi [1, 2, 3, 4, 5]\n",
            "vf [2, 5, 5, 5, 1]\n",
            "dicto {1: 2, 2: 5, 3: 5, 4: 5, 5: 1}\n",
            "\n",
            "vi [2, 5, 5, 5, 1]\n",
            "vf [1, 2, 3, 4, 5]\n",
            "dictoInverso {2: 1, 5: 4, 1: 5}\n",
            "\n",
            "[0, 0, 0, 0, 0]\n",
            "vi [1, 2, 3, 4, 5]\n",
            "vf [0, 0, 0, 0, 0]\n",
            "{1: 0, 2: 0, 3: 0, 4: 0, 5: 0}\n"
          ]
        }
      ]
    },
    {
      "cell_type": "markdown",
      "source": [
        "criando função que conta o grau de vertice"
      ],
      "metadata": {
        "id": "Cu2xorLTU0_d"
      }
    },
    {
      "cell_type": "code",
      "source": [
        "# criar uma função que recebe dictoContando e dicto\n",
        "\n",
        "def grau(dicto,dictoContando):\n",
        "  print(dicto.keys())\n",
        "  print(dicto.values())\n",
        "  print(dicto[1])   # vai imprimir o valor que esta atribudido\n",
        "  print(dicto[2])\n",
        "\n",
        "\n",
        "grau(dicto,dictoContando)\n",
        "\n",
        "grau(dictoInverso,dictoContando)\n",
        "\n",
        "\n",
        "keys = ['a', 'b', 'c','c']\n",
        "values = [1, 2, 3,4]\n",
        "dictionary = dict(zip(keys, values))\n",
        "print(dictionary) # {'a': 1, 'b': 2, 'c': 3}\n",
        "\n"
      ],
      "metadata": {
        "colab": {
          "base_uri": "https://localhost:8080/"
        },
        "id": "EBJSCTd0U5P7",
        "outputId": "ae172b41-0a49-4158-df84-0b0fe687ff0a"
      },
      "execution_count": 57,
      "outputs": [
        {
          "output_type": "stream",
          "name": "stdout",
          "text": [
            "dict_keys([1, 2, 3, 4, 5])\n",
            "dict_values([2, 5, 5, 5, 1])\n",
            "2\n",
            "5\n",
            "dict_keys([2, 5, 1])\n",
            "dict_values([1, 4, 5])\n",
            "5\n",
            "1\n",
            "{'a': 1, 'b': 2, 'c': 4}\n"
          ]
        }
      ]
    },
    {
      "cell_type": "code",
      "source": [
        "keys = ('name', 'age','age', 'food')\n",
        "values = ('Monty', 42, 33, 'spam')    \n",
        "dict = {keys[i]: values[i] for i in range(len(keys))}\n",
        "\n",
        "print(dict)"
      ],
      "metadata": {
        "colab": {
          "base_uri": "https://localhost:8080/"
        },
        "id": "YVG06n46gVLX",
        "outputId": "fee24109-db7d-40bc-be77-062acc37f60a"
      },
      "execution_count": 67,
      "outputs": [
        {
          "output_type": "stream",
          "name": "stdout",
          "text": [
            "{'name': 'Monty', 'age': 33, 'food': 'spam'}\n"
          ]
        }
      ]
    },
    {
      "cell_type": "markdown",
      "source": [
        "aprendendo a manipular dict"
      ],
      "metadata": {
        "id": "fyypbwxvhCIL"
      }
    },
    {
      "cell_type": "code",
      "source": [
        "dt = {\"Chave\":\"valores1\"}\n",
        "\n",
        "print(dt)\n",
        "dt."
      ],
      "metadata": {
        "colab": {
          "base_uri": "https://localhost:8080/"
        },
        "id": "O7Rj6CfhhKFU",
        "outputId": "3a753dec-855f-4e04-fbbc-45ec6b670bd2"
      },
      "execution_count": 70,
      "outputs": [
        {
          "output_type": "stream",
          "name": "stdout",
          "text": [
            "{'Chave': 'valores1'}\n"
          ]
        }
      ]
    },
    {
      "cell_type": "code",
      "source": [
        "thisdict = {\n",
        "  \"brand\": \"Ford\",\n",
        "  \"model\": \"Mustang\",\n",
        "  \"year\": 1964\n",
        "}\n",
        "thisdict.update({\"color\": \"red\"})\n",
        "\n",
        "print(thisdict)\n",
        "\n",
        "thisdict.update({\"color\": \"blue\"})\n",
        "\n",
        "print(thisdict)\n",
        "\n",
        "\n"
      ],
      "metadata": {
        "colab": {
          "base_uri": "https://localhost:8080/"
        },
        "id": "ktskLjnKklIy",
        "outputId": "a56a2806-d4b7-41bd-a385-397bab8bbf87"
      },
      "execution_count": 73,
      "outputs": [
        {
          "output_type": "stream",
          "name": "stdout",
          "text": [
            "{'brand': 'Ford', 'model': 'Mustang', 'year': 1964, 'color': 'red'}\n",
            "{'brand': 'Ford', 'model': 'Mustang', 'year': 1964, 'color': 'blue'}\n",
            "{'brand': 'Ford', 'model': 'Mustang', 'year': 1964, 'color': 'red'}\n"
          ]
        }
      ]
    }
  ]
}