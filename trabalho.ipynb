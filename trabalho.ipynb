{
  "nbformat": 4,
  "nbformat_minor": 0,
  "metadata": {
    "colab": {
      "provenance": [],
      "collapsed_sections": [],
      "authorship_tag": "ABX9TyNdV6Ig32/EIjy9TEcXjZKE",
      "include_colab_link": true
    },
    "kernelspec": {
      "name": "python3",
      "display_name": "Python 3"
    },
    "language_info": {
      "name": "python"
    }
  },
  "cells": [
    {
      "cell_type": "markdown",
      "metadata": {
        "id": "view-in-github",
        "colab_type": "text"
      },
      "source": [
        "<a href=\"https://colab.research.google.com/github/reidnersousa/6semestre/blob/Teoria-Grafos/trabalho.ipynb\" target=\"_parent\"><img src=\"https://colab.research.google.com/assets/colab-badge.svg\" alt=\"Open In Colab\"/></a>"
      ]
    },
    {
      "cell_type": "code",
      "execution_count": 3,
      "metadata": {
        "colab": {
          "base_uri": "https://localhost:8080/"
        },
        "id": "VsztwTdMRwNj",
        "outputId": "54724e0b-1eb9-49c7-86ab-11f4661148ab"
      },
      "outputs": [
        {
          "output_type": "stream",
          "name": "stdout",
          "text": [
            ">kkk ['5', '1 2', '2 5', '3 5', '4 5', '5 1']\n",
            "5\n",
            ">>>>\n",
            "3\n",
            " \n",
            "5\n",
            ">> 5\n"
          ]
        }
      ],
      "source": [
        "# importar as bibliotecas necessárias\n",
        "import pandas as pd\n",
        "import matplotlib.pyplot as plt\n",
        "import numpy as np\n",
        "import seaborn as sns\n",
        "from pprint import pprint\n",
        "\n",
        "# estilo notebook\n",
        "sns.set()\n",
        "\n",
        "# url dos datasets\n",
        "url_path = 'https://raw.githubusercontent.com/reidnersousa/6semestre/Teoria-Grafos/GrafoExemplo.txt'\n",
        "\n",
        "# df recebe o arquivo e transforma em DataFrame\n",
        "df = pd.read_csv(url_path , sep ='\\t',names=[\"Teste1\"])\n",
        "\n",
        "\n",
        "# transformando o DataFrame em Dictinory\n",
        "\n",
        "names = df['Teste1'].tolist()\n",
        "\n",
        "arrayDi = df['Teste1'].to_numpy()\n",
        " \n",
        "# Printing the converted list.\n",
        "print(\">kkk\",names)\n",
        "\n",
        "#print(names[0])\n",
        "\n",
        "\n",
        "print(arrayDi[0][0])\n",
        "print(\">>>>\")\n",
        "print(arrayDi[3][0])\n",
        "print(arrayDi[3][1])\n",
        "print(arrayDi[3][2])\n",
        "print(\">>\",arrayDi[2][2])\n",
        "\n"
      ]
    },
    {
      "cell_type": "markdown",
      "source": [
        "O i>= numeroNo e  j >=3"
      ],
      "metadata": {
        "id": "dC1KzPZ6kQ8-"
      }
    },
    {
      "cell_type": "code",
      "source": [
        "#print(arrayDi[0][1])\n",
        "#print(arrayDi[0][2])\n",
        "\n",
        "NumeroNo = arrayDi[0][0]\n",
        "print(NumeroNo)\n",
        "imax =NumeroNo\n",
        "jmax =3"
      ],
      "metadata": {
        "colab": {
          "base_uri": "https://localhost:8080/"
        },
        "id": "5JtFwA5BkSrf",
        "outputId": "059e4bc4-3931-4114-d29b-138e8dfe80a7"
      },
      "execution_count": 5,
      "outputs": [
        {
          "output_type": "stream",
          "name": "stdout",
          "text": [
            "5\n"
          ]
        }
      ]
    },
    {
      "cell_type": "markdown",
      "source": [
        "criando Matriz adjacência"
      ],
      "metadata": {
        "id": "q4TShCnyEZT1"
      }
    },
    {
      "cell_type": "code",
      "source": [
        "tamanho =int(NumeroNo)\n",
        "grade =[]\n",
        "\n",
        "for _ in range(tamanho):\n",
        "  sublista = [] \n",
        "  for _ in range(tamanho):\n",
        "    sublista.append(0)\n",
        "\n",
        "  grade.append(sublista)\n",
        "\n",
        "pprint(grade)"
      ],
      "metadata": {
        "id": "qsfiwlmZljx1",
        "colab": {
          "base_uri": "https://localhost:8080/"
        },
        "outputId": "3242d356-e47e-4dd7-ba0c-d864a66a453f"
      },
      "execution_count": 6,
      "outputs": [
        {
          "output_type": "stream",
          "name": "stdout",
          "text": [
            "[[0, 0, 0, 0, 0],\n",
            " [0, 0, 0, 0, 0],\n",
            " [0, 0, 0, 0, 0],\n",
            " [0, 0, 0, 0, 0],\n",
            " [0, 0, 0, 0, 0]]\n"
          ]
        }
      ]
    },
    {
      "cell_type": "markdown",
      "source": [
        "colocandos valores na matriz(Não roda)\n"
      ],
      "metadata": {
        "id": "F_XBbTzMzUFX"
      }
    },
    {
      "cell_type": "code",
      "source": [
        "grade[0][0] = 1\n",
        "grade[0][4]= 1\n",
        "grade[4][3]=1\n",
        "pprint(grade)\n",
        "\n",
        "\n",
        "\n"
      ],
      "metadata": {
        "colab": {
          "base_uri": "https://localhost:8080/"
        },
        "id": "EEcWFHr_zX_v",
        "outputId": "cb1a5aab-ce28-4ef2-efe1-c6f909f4264c"
      },
      "execution_count": null,
      "outputs": [
        {
          "output_type": "stream",
          "name": "stdout",
          "text": [
            "[[1, 0, 0, 0, 1],\n",
            " [0, 0, 0, 0, 0],\n",
            " [0, 0, 0, 0, 0],\n",
            " [0, 0, 0, 0, 0],\n",
            " [0, 0, 0, 1, 0]]\n"
          ]
        }
      ]
    },
    {
      "cell_type": "markdown",
      "source": [
        "for com idx no python (nao roda)"
      ],
      "metadata": {
        "id": "49YJgS0u_mlv"
      }
    },
    {
      "cell_type": "code",
      "source": [
        "\"\"\"\n",
        "i = 1 #inicializador\n",
        "while i < tamanho: #verifica a condição\n",
        "    print(i) #o corpo, a ação\n",
        "    i += 1 #o passo de \"incremento\"\n",
        "\n",
        "\"\"\"\n",
        "\n",
        "i=int(arrayDi[4][0])  #4\n",
        "j=int(arrayDi[4][2])  #5\n",
        "\n",
        "i=i-1\n",
        "j=j-1\n",
        "print(\">>>\",i)\n",
        "print(\">>>\",j)\n",
        "\n",
        "\n",
        "grade[i][j]=2\n",
        "pprint(grade)"
      ],
      "metadata": {
        "colab": {
          "base_uri": "https://localhost:8080/"
        },
        "id": "LhmTUFOn-vyy",
        "outputId": "2d4e0396-f523-41f4-97e1-b00ff5d03a5c"
      },
      "execution_count": null,
      "outputs": [
        {
          "output_type": "stream",
          "name": "stdout",
          "text": [
            ">>> 3\n",
            ">>> 4\n",
            "[[0, 0, 0, 0, 0],\n",
            " [0, 0, 0, 0, 0],\n",
            " [0, 0, 0, 0, 0],\n",
            " [0, 0, 0, 0, 2],\n",
            " [0, 0, 0, 0, 0]]\n"
          ]
        }
      ]
    },
    {
      "cell_type": "markdown",
      "source": [
        "criando a função"
      ],
      "metadata": {
        "id": "2eImR8E1JPdG"
      }
    },
    {
      "cell_type": "code",
      "source": [
        "def A(aDi,grade0):\n",
        "  arrayDi =aDi\n",
        "  grade=grade0\n",
        "  k = 1 # não pode ser menor do que 1 ;k vai de 1 ate o tamanhho do elemento\n",
        "  l =0\n",
        "  print(tamanho)\n",
        "  while k < tamanho: #verifica a condição   \n",
        "    while l <2:\n",
        "      if arrayDi[k][l]== arrayDi[k][0]:\n",
        "        auxk=int(arrayDi[k][l])\n",
        "      l += 1\n",
        "    if arrayDi[k][l]==arrayDi[k][2]:\n",
        "      auxl=(arrayDi[k][l])\n",
        "      auxl=int(auxl)\n",
        "      #aqui devo devo atribuir os idx para coloca 1 ou 0\n",
        "      grade[auxk-1][auxl-1]=1 # colando em um so lado \n",
        "      #teste\n",
        "      grade[auxl-1][auxk-1]=1 # colando no outro lado (opcional)  \n",
        "    l=0\n",
        "    k += 1 #o passo de \"incremento\"\n",
        "  while l<2:\n",
        "    if arrayDi[k][l]== arrayDi[k][0]:\n",
        "      auxk=int(arrayDi[k][l])\n",
        "    l+= 1\n",
        "  if arrayDi[k][l]==arrayDi[k][2]:\n",
        "    auxl=int(arrayDi[k][l])\n",
        "    grade[auxk-1][auxl-1]=1\n",
        "  return grade\n",
        "\n",
        "\n",
        "\n",
        "pprint(A(arrayDi,grade))\n",
        "\n",
        "    "
      ],
      "metadata": {
        "colab": {
          "base_uri": "https://localhost:8080/"
        },
        "id": "bB3YD-mNDITe",
        "outputId": "3d7a8830-0db8-478f-b311-eacf0ce4b18e"
      },
      "execution_count": 7,
      "outputs": [
        {
          "output_type": "stream",
          "name": "stdout",
          "text": [
            "5\n",
            "[[0, 1, 0, 0, 0],\n",
            " [1, 0, 0, 0, 1],\n",
            " [0, 0, 0, 0, 1],\n",
            " [0, 0, 0, 0, 1],\n",
            " [1, 1, 1, 1, 0]]\n"
          ]
        }
      ]
    },
    {
      "cell_type": "markdown",
      "source": [
        "Crindo uma matriz matriz adjacência "
      ],
      "metadata": {
        "id": "H13ljPCTIM_V"
      }
    },
    {
      "cell_type": "code",
      "source": [
        "k = 1 # não pode ser menor do que 1 ;k vai de 1 ate o tamanhho do elemento\n",
        "l =0\n",
        "\n",
        "print(tamanho)\n",
        "while k < tamanho: #verifica a condição   \n",
        "    \n",
        "    while l <2:\n",
        "      print(\"k>>=\",k,\"L=\",l,\">>\",arrayDi[k][l]) #o corpo, a ação\n",
        "      if arrayDi[k][l]== arrayDi[k][0]:\n",
        "        print(\"VerticeA\",arrayDi[k][l])\n",
        "        auxk=int(arrayDi[k][l])\n",
        "        print(\"auxk=\",auxk)\n",
        "      l += 1\n",
        "    print(\"k  =\",k,\"L=\",l,\">>\",arrayDi[k][l]) #o corpo, a ação\n",
        "    if arrayDi[k][l]==arrayDi[k][2]:\n",
        "      print(\"VerticeB\",arrayDi[k][l])\n",
        "      auxl=(arrayDi[k][l])\n",
        "      auxl=int(auxl)\n",
        "      print(\"auxl\",auxl)\n",
        "\n",
        "      #aqui devo devo atribuir os idx para coloca 1 ou 0\n",
        "      grade[auxk-1][auxl-1]=1 # colando em um so lado \n",
        "      #teste\n",
        "      grade[auxl-1][auxk-1]=1 # colando no outro lado (opcional)\n",
        "\n",
        "      \n",
        "    l=0\n",
        "    k += 1 #o passo de \"incremento\"\n",
        "\n",
        "\n",
        "while l<2:\n",
        "  print(\"kkk=\",k,\"L=\",l,\">>\",arrayDi[k][l]) #o corpo, a ação\n",
        "  if arrayDi[k][l]== arrayDi[k][0]:\n",
        "      print(\"k=>\",k,\"VerticeAA\",arrayDi[k][l],\"k=>\",k)\n",
        "      auxk=int(arrayDi[k][l])\n",
        "      print(\"auxk=\",auxk)\n",
        "  l+= 1\n",
        "print(\"kkk=\",k,\"L=\",l,\">>\",arrayDi[k][l]) #o corpo, a ação\n",
        "if arrayDi[k][l]==arrayDi[k][2]:\n",
        "    auxl=int(arrayDi[k][l])\n",
        "    print(\"VerticeBB\",arrayDi[k][l])\n",
        "    print(\"auxl=\",auxl)\n",
        "    grade[auxk-1][auxl-1]=1\n",
        "\n"
      ],
      "metadata": {
        "colab": {
          "base_uri": "https://localhost:8080/"
        },
        "id": "sjOEhb3qIlG_",
        "outputId": "d6a1e6f5-83b1-4841-af58-9ee8829c8e20"
      },
      "execution_count": 8,
      "outputs": [
        {
          "output_type": "stream",
          "name": "stdout",
          "text": [
            "5\n",
            "k>>= 1 L= 0 >> 1\n",
            "VerticeA 1\n",
            "auxk= 1\n",
            "k>>= 1 L= 1 >>  \n",
            "k  = 1 L= 2 >> 2\n",
            "VerticeB 2\n",
            "auxl 2\n",
            "k>>= 2 L= 0 >> 2\n",
            "VerticeA 2\n",
            "auxk= 2\n",
            "k>>= 2 L= 1 >>  \n",
            "k  = 2 L= 2 >> 5\n",
            "VerticeB 5\n",
            "auxl 5\n",
            "k>>= 3 L= 0 >> 3\n",
            "VerticeA 3\n",
            "auxk= 3\n",
            "k>>= 3 L= 1 >>  \n",
            "k  = 3 L= 2 >> 5\n",
            "VerticeB 5\n",
            "auxl 5\n",
            "k>>= 4 L= 0 >> 4\n",
            "VerticeA 4\n",
            "auxk= 4\n",
            "k>>= 4 L= 1 >>  \n",
            "k  = 4 L= 2 >> 5\n",
            "VerticeB 5\n",
            "auxl 5\n",
            "kkk= 5 L= 0 >> 5\n",
            "k=> 5 VerticeAA 5 k=> 5\n",
            "auxk= 5\n",
            "kkk= 5 L= 1 >>  \n",
            "kkk= 5 L= 2 >> 1\n",
            "VerticeBB 1\n",
            "auxl= 1\n"
          ]
        }
      ]
    },
    {
      "cell_type": "markdown",
      "source": [],
      "metadata": {
        "id": "xj0WEomKItDe"
      }
    },
    {
      "cell_type": "markdown",
      "source": [
        "imprimindo grade (matriz adjacência, )"
      ],
      "metadata": {
        "id": "4XNVcGIvpaVi"
      }
    },
    {
      "cell_type": "code",
      "source": [
        "pprint(grade)"
      ],
      "metadata": {
        "colab": {
          "base_uri": "https://localhost:8080/"
        },
        "id": "UX3ZOC96pcQQ",
        "outputId": "c5485312-1a7d-44f2-9c86-56098a8bf834"
      },
      "execution_count": 9,
      "outputs": [
        {
          "output_type": "stream",
          "name": "stdout",
          "text": [
            "[[0, 1, 0, 0, 0],\n",
            " [1, 0, 0, 0, 1],\n",
            " [0, 0, 0, 0, 1],\n",
            " [0, 0, 0, 0, 1],\n",
            " [1, 1, 1, 1, 0]]\n"
          ]
        }
      ]
    },
    {
      "cell_type": "code",
      "source": [
        "grafo ={\"1\":[\"2\"],\n",
        "        \"2\":[\"5\"],\n",
        "        \"3\":[\"5\"],\n",
        "        \"4\":[\"5\"],\n",
        "        \"5\":[\"1\"]\n",
        "}\n",
        "grafo ={\"1\":[\"2\"],\n",
        "        \"2\":[\"5\"],\n",
        "        \"3\":[\"5\"],\n",
        "        \"4\":[\"5\"],\n",
        "        \"5\":[\"1\"]\n",
        "}\n",
        "\n",
        "\n",
        "\n",
        "print(grafo)\n",
        "print(type(grafo))\n",
        "\n",
        "\n",
        "dicio_3 = dict(zip(['primeiro', 'segundo', 'terceiro'], [1, 2, 3]))\n",
        "\n",
        "print(dicio_3)\n",
        "\n",
        "string =['k2kk2','lslsl']\n",
        "llll =[1,2]\n",
        "\n",
        "dic = dict(zip(string,llll))\n",
        "print(dic)"
      ],
      "metadata": {
        "colab": {
          "base_uri": "https://localhost:8080/"
        },
        "id": "TE1MXzJhUOPg",
        "outputId": "a481d3cf-fcf3-40b4-c32f-da34a94fd371"
      },
      "execution_count": 11,
      "outputs": [
        {
          "output_type": "stream",
          "name": "stdout",
          "text": [
            "{'1': ['2'], '2': ['5'], '3': ['5'], '4': ['5'], '5': ['1']}\n",
            "<class 'dict'>\n",
            "{'primeiro': 1, 'segundo': 2, 'terceiro': 3}\n",
            "{'k2kk2': 1, 'lslsl': 2}\n"
          ]
        }
      ]
    },
    {
      "cell_type": "markdown",
      "source": [
        "Criando lista"
      ],
      "metadata": {
        "id": "AzMEn6J8wctt"
      }
    },
    {
      "cell_type": "code",
      "source": [
        "print(arrayDi)\n",
        "print(arrayDi[1][0])\n",
        "print(arrayDi[1][1])\n",
        "print(arrayDi[1][2])\n",
        "\n",
        "print(arrayDi[5][0])\n",
        "print(arrayDi[5][1])\n",
        "print(arrayDi[5][2])\n",
        "\n",
        "def SeperandoArrayDi(Valores):\n",
        "  i=1\n",
        "  j=1\n",
        "  tam =5\n",
        "  VerticeInicial =[]\n",
        "  VerticeFinal =[]\n",
        "  print(tam)\n",
        "  while i<5:\n",
        "    aux =int(arrayDi[i][0])\n",
        "    VerticeInicial.append(aux)\n",
        "    i +=1\n",
        "    if arrayDi[tam][0]==arrayDi[i][0]:\n",
        "      print(\"tipo\",type(arrayDi[i][0]))\n",
        "      aux =int(arrayDi[i][0])\n",
        "      VerticeInicial.append(aux)\n",
        "      #VerticeInicial.append(arrayDi[i][0])\n",
        "  while j <5:\n",
        "\n",
        "    auj =int(arrayDi[j][2])\n",
        "    VerticeFinal.append(auj)\n",
        "    #VerticeFinal.append(arrayDi[j][2]) \n",
        "    j +=1\n",
        "    if arrayDi[tam][2]==arrayDi[j][2]: \n",
        "      auj =int(arrayDi[j][2])\n",
        "      VerticeFinal.append(auj)\n",
        "      #VerticeFinal.append(arrayDi[j][2])\n",
        "  \n",
        "  return VerticeInicial,VerticeFinal\n",
        "     \n",
        "\n",
        "  \n",
        " \n",
        "\n",
        "\n",
        "\n",
        "A,B=SeperandoArrayDi(arrayDi)\n",
        "\n",
        "print(A,B)"
      ],
      "metadata": {
        "colab": {
          "base_uri": "https://localhost:8080/"
        },
        "id": "kglzSBTBwpxp",
        "outputId": "5d1a2088-ba19-49cd-cb45-6582843b75f0"
      },
      "execution_count": 12,
      "outputs": [
        {
          "output_type": "stream",
          "name": "stdout",
          "text": [
            "['5' '1 2' '2 5' '3 5' '4 5' '5 1']\n",
            "1\n",
            " \n",
            "2\n",
            "5\n",
            " \n",
            "1\n",
            "5\n",
            "tipo <class 'str'>\n",
            "[1, 2, 3, 4, 5] [2, 5, 5, 5, 1]\n"
          ]
        }
      ]
    },
    {
      "cell_type": "markdown",
      "source": [
        "È possivel retorna duas variaveis numa função?Sim"
      ],
      "metadata": {
        "id": "uRe7Px37RziG"
      }
    },
    {
      "cell_type": "code",
      "source": [
        "def retorna2():\n",
        "  a=1+2\n",
        "  b=3+2\n",
        "  return a,b\n",
        "\n",
        "print(retorna2())"
      ],
      "metadata": {
        "colab": {
          "base_uri": "https://localhost:8080/"
        },
        "id": "r3XZOKJJR31B",
        "outputId": "716d4274-bd39-42f0-eb17-7504eff8ea9a"
      },
      "execution_count": null,
      "outputs": [
        {
          "output_type": "stream",
          "name": "stdout",
          "text": [
            "(3, 5)\n"
          ]
        }
      ]
    },
    {
      "cell_type": "markdown",
      "source": [
        "Criando uma função que criar um dicto"
      ],
      "metadata": {
        "id": "QT222pdET9xW"
      }
    },
    {
      "cell_type": "code",
      "source": [
        "#vi verticeInicial  vf = verticeFinal\n",
        "def criarDict(vi,vf):\n",
        "  dicto=dict(zip(vi,vf))\n",
        "  print(A,B)\n",
        "  return dicto\n",
        "\n",
        "\n",
        "dicto=criarDict(A,B)\n",
        "print(\"dicto\",dicto)\n",
        "\n",
        "\n",
        "print(dicto.keys())\n",
        "print(dicto.values())\n",
        "\n",
        "\n",
        "print(*dicto)\n",
        "\n",
        "\n",
        "\n"
      ],
      "metadata": {
        "colab": {
          "base_uri": "https://localhost:8080/"
        },
        "id": "qOdhfNIjUA94",
        "outputId": "353dfa2a-022a-4ae2-d544-a26d2269263f"
      },
      "execution_count": 53,
      "outputs": [
        {
          "output_type": "stream",
          "name": "stdout",
          "text": [
            "[1, 2, 3, 4, 5] [2, 5, 5, 5, 1]\n",
            "dicto {1: 2, 2: 5, 3: 5, 4: 5, 5: 1}\n",
            "dict_keys([1, 2, 3, 4, 5])\n",
            "dict_values([2, 5, 5, 5, 1])\n",
            "1 2 3 4 5\n"
          ]
        }
      ]
    },
    {
      "cell_type": "markdown",
      "source": [
        "Criando a variavel que vai pega A(VerticeInicial) e B(VerticeFinal) e vai retorna a rota(aresta) do vertice A e do vertice B"
      ],
      "metadata": {
        "id": "Iy0iwFdrhV75"
      }
    },
    {
      "cell_type": "code",
      "source": [
        "print(A)\n",
        "print(B)\n",
        "\n",
        "arestas = [('A', 'B'), ('B', 'C'), ('B', 'D'), ('C', 'B'), ('C', 'E'), ('D', 'A'), ('E', 'B')]\n",
        "\n",
        "print(type(arestas),arestas)\n",
        "print(arestas[0][0])\n",
        "\n",
        "\n",
        "print(A)\n",
        "print(B)\n",
        "print(A[0])\n",
        "print(B[0])\n",
        "\n",
        "ar=[]\n",
        "arr =[(A[0],B[0])]\n",
        "\n",
        "\"\"\"\n",
        "ar.append(arr)\n",
        "print(ar)\n",
        "\n",
        "arr =[(A[1],B[1])]\n",
        "\n",
        "ar.append(arr)\n",
        "print(ar)\n",
        "\n",
        "\"\"\"\n",
        "def CriarRotas(verticeInicial,verticeFinal):\n",
        "  rotas =[]\n",
        "  numerosAresta =5 # criar uma função que calcular o numero de aresta \n",
        "  i=0\n",
        "  while i<numerosAresta:\n",
        "    \n",
        "    aux=[(verticeInicial[i],verticeFinal[i])]\n",
        "    rotas.append(aux)\n",
        "    i +=1 \n",
        "\n",
        "  return rotas\n",
        "\n",
        "rotas=CriarRotas(A,B)\n",
        "print(rotas)"
      ],
      "metadata": {
        "colab": {
          "base_uri": "https://localhost:8080/"
        },
        "id": "tsseqEaWhA-N",
        "outputId": "f772303a-93d6-4acc-bba6-98ad123561e1"
      },
      "execution_count": 55,
      "outputs": [
        {
          "output_type": "stream",
          "name": "stdout",
          "text": [
            "[1, 2, 3, 4, 5]\n",
            "[2, 5, 5, 5, 1]\n",
            "<class 'list'> [('A', 'B'), ('B', 'C'), ('B', 'D'), ('C', 'B'), ('C', 'E'), ('D', 'A'), ('E', 'B')]\n",
            "A\n",
            "[1, 2, 3, 4, 5]\n",
            "[2, 5, 5, 5, 1]\n",
            "1\n",
            "2\n",
            "[[(1, 2)], [(2, 5)], [(3, 5)], [(4, 5)], [(5, 1)]]\n"
          ]
        }
      ]
    }
  ]
}